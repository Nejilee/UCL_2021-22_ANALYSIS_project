{
 "cells": [
  {
   "cell_type": "code",
   "execution_count": null,
   "id": "b550ddc7-2f96-4802-9442-d556e1ee65dc",
   "metadata": {},
   "outputs": [],
   "source": [
    "import matplotlib.pyplot as plt\n",
    "import pandas as pd\n",
    "ucl = pd.read_csv('/home/neji/Downloads/DATA/goals.csv')\n",
    "t_g = ucl['goals'].sum()\n",
    "g_w_leftFoot = ucl['left_foot'].sum()\n",
    "g_w_rightFoot = ucl['right_foot'].sum()\n",
    "t_g_penalties = ucl['penalties'].sum()\n",
    "t_headers = ucl['headers'].sum()\n",
    "t_insideArea = ucl['inside_area'].sum()\n",
    "t_outsideAreas = ucl['outside_areas'].sum()\n",
    "print(t_g)\n",
    "print(g_w_leftFoot)\n",
    "print(g_w_rightFoot)\n",
    "print(t_g_penalties)\n",
    "print(t_headers)\n",
    "print(t_insideArea)\n",
    "print(t_outsideAreas)"
   ]
  },
  {
   "cell_type": "markdown",
   "id": "b8f9ddad-1aa3-4644-9375-bd14070a0921",
   "metadata": {},
   "source": [
    "# UEFA GOALS ANALYSIS\n",
    "\n",
    "1. Total goals scored in this season were **370**.\n",
    "2. Total goals scored with left foot were **127**.\n",
    "3. Total goals scored with right foot were **178**.\n",
    "4. Total number of penalties converted to goals were **36**.\n",
    "5. Total number of goals scored with headers were **60**.\n",
    "6. Most of the goals scored were from inside area i.e **332** goals and **38** goals were from outside areas.\n"
   ]
  },
  {
   "cell_type": "code",
   "execution_count": null,
   "id": "8c110837-5da0-434e-8e05-df146e465d56",
   "metadata": {},
   "outputs": [],
   "source": []
  }
 ],
 "metadata": {
  "kernelspec": {
   "display_name": "Python 3 (ipykernel)",
   "language": "python",
   "name": "python3"
  },
  "language_info": {
   "codemirror_mode": {
    "name": "ipython",
    "version": 3
   },
   "file_extension": ".py",
   "mimetype": "text/x-python",
   "name": "python",
   "nbconvert_exporter": "python",
   "pygments_lexer": "ipython3",
   "version": "3.10.4"
  }
 },
 "nbformat": 4,
 "nbformat_minor": 5
}
